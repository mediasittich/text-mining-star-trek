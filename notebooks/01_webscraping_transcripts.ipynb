{
 "cells": [
  {
   "cell_type": "markdown",
   "metadata": {},
   "source": [
    "# Getting episode transcripts\n",
    "\n",
    "## Data Sources:\n",
    "- [chakoteya.net](http://www.chakoteya.net/StarTrek/index.html)"
   ]
  },
  {
   "cell_type": "code",
   "execution_count": 1,
   "metadata": {},
   "outputs": [],
   "source": [
    "# Create list of links to each series' episode list page\n",
    "episodes_list_links = [\"http://www.chakoteya.net/StarTrek/episodes.htm\",\n",
    "               \"http://www.chakoteya.net/NextGen/episodes.htm\",\n",
    "               \"http://www.chakoteya.net/DS9/episodes.htm\",\n",
    "               \"http://www.chakoteya.net/Voyager/episode_listing.htm\",\n",
    "               \"http://www.chakoteya.net/Enterprise/episodes.htm\",\n",
    "               \"http://www.chakoteya.net/STDisco17/episodes.html\"]"
   ]
  },
  {
   "cell_type": "code",
   "execution_count": 2,
   "metadata": {},
   "outputs": [],
   "source": [
    "# Create list of base links for each series as root for single episodes\n",
    "base_links = []\n",
    "\n",
    "for link in episodes_list_links:\n",
    "    base_links.append(link.rsplit('/',1)[0] + \"/\")"
   ]
  },
  {
   "cell_type": "code",
   "execution_count": 3,
   "metadata": {},
   "outputs": [
    {
     "data": {
      "text/plain": [
       "['http://www.chakoteya.net/StarTrek/',\n",
       " 'http://www.chakoteya.net/NextGen/',\n",
       " 'http://www.chakoteya.net/DS9/',\n",
       " 'http://www.chakoteya.net/Voyager/',\n",
       " 'http://www.chakoteya.net/Enterprise/',\n",
       " 'http://www.chakoteya.net/STDisco17/']"
      ]
     },
     "execution_count": 3,
     "metadata": {},
     "output_type": "execute_result"
    }
   ],
   "source": [
    "base_links"
   ]
  }
 ],
 "metadata": {
  "kernelspec": {
   "display_name": "Python 3.9.12 ('nlp-startrek')",
   "language": "python",
   "name": "python3"
  },
  "language_info": {
   "codemirror_mode": {
    "name": "ipython",
    "version": 3
   },
   "file_extension": ".py",
   "mimetype": "text/x-python",
   "name": "python",
   "nbconvert_exporter": "python",
   "pygments_lexer": "ipython3",
   "version": "3.9.12"
  },
  "orig_nbformat": 4,
  "vscode": {
   "interpreter": {
    "hash": "24bd6681545462bbb97d1ededec5ead603712adb11e672f892b1b30d8ac78b85"
   }
  }
 },
 "nbformat": 4,
 "nbformat_minor": 2
}
